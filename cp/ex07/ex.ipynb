{
 "cells": [
  {
   "cell_type": "markdown",
   "metadata": {},
   "source": [
    "Import the random module\n",
    "Generate a random number between 0 and 1\n",
    "Generate a random integer between 1 and 10\n",
    "Generate two random integers between 5 and 10\n",
    "Sample 10 times from [1, 2, 3, 4, 5] with replacement (i.e. the same number can be drawn multiple times)\n",
    "Sample 10 times from [1, 2, 3, 4, 5] with the probabiltiy of drawing each number being proportional to the number\n",
    "itself (i.e. 1 is drawn with probability 1/15, 2 with probability 2/15, etc.)"
   ]
  },
  {
   "cell_type": "code",
   "execution_count": 140,
   "metadata": {},
   "outputs": [
    {
     "name": "stdout",
     "output_type": "stream",
     "text": [
      "[3, 1, 2, 4, 2, 5, 5, 4, 1, 5]\n"
     ]
    }
   ],
   "source": [
    "import random\n",
    "\n",
    "# random_number = random.random()\n",
    "# random_int = random.randint(1, 10)\n",
    "# random_5_10 = random.sample(range(5, 11), 3)\n",
    "# listOne = ['abcd', 'cdef', 'ijk']\n",
    "# print(random.choice(listOne))\n",
    "\n",
    "# new_list = [1, 2, 3, 4, 5]\n",
    "# random_list_replace = [random.choice([1, 2, 3, 4, 5]) for _ in range(10)]\n",
    "random_list_replace = []\n",
    "for _ in range(10):\n",
    "    random_list_replace.append(random.choice([1, 2, 3, 4, 5]))\n",
    "print(random_list_replace)"
   ]
  }
 ],
 "metadata": {
  "kernelspec": {
   "display_name": ".venv",
   "language": "python",
   "name": "python3"
  },
  "language_info": {
   "codemirror_mode": {
    "name": "ipython",
    "version": 3
   },
   "file_extension": ".py",
   "mimetype": "text/x-python",
   "name": "python",
   "nbconvert_exporter": "python",
   "pygments_lexer": "ipython3",
   "version": "3.11.6"
  }
 },
 "nbformat": 4,
 "nbformat_minor": 2
}
