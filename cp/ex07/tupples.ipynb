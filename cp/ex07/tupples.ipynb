{
 "cells": [
  {
   "cell_type": "code",
   "execution_count": null,
   "metadata": {},
   "outputs": [],
   "source": []
  },
  {
   "cell_type": "markdown",
   "metadata": {},
   "source": [
    "basic intro"
   ]
  },
  {
   "cell_type": "code",
   "execution_count": 16,
   "metadata": {},
   "outputs": [
    {
     "name": "stdout",
     "output_type": "stream",
     "text": [
      "2\n",
      "<class 'tuple'> ('name', 'address', 'roll', 'class')\n"
     ]
    }
   ],
   "source": [
    "tuples = (1, 2, 24, 30)\n",
    "print(tuples[1])\n",
    "\n",
    "# create a tuple\n",
    "my_tuple = tuple(('name', 'address', 'roll', 'class'))\n",
    "print(type(my_tuple), my_tuple)"
   ]
  },
  {
   "cell_type": "markdown",
   "metadata": {},
   "source": [
    "tuples method"
   ]
  },
  {
   "cell_type": "code",
   "execution_count": 42,
   "metadata": {},
   "outputs": [
    {
     "name": "stdout",
     "output_type": "stream",
     "text": [
      "<class 'int'>\n",
      "<class 'tuple'>\n",
      "(90, 70)\n",
      "(100, 300, 34)\n",
      "<class 'tuple'>\n"
     ]
    }
   ],
   "source": [
    "looks_tuplse = 10\n",
    "print(type(looks_tuplse))\n",
    "\n",
    "actual_tuples = (10, 90, 70, 100, 300, 34)\n",
    "print(type(actual_tuples))\n",
    "print(actual_tuples[1:3])\n",
    "print(actual_tuples[3:])\n",
    "thistuple = (\"apple\", \"banana\", \"cherry\", \"orange\", \"kiwi\", \"melon\", \"mango\")\n",
    "print(type(thistuple[:5]))"
   ]
  },
  {
   "cell_type": "markdown",
   "metadata": {},
   "source": [
    "more methods"
   ]
  },
  {
   "cell_type": "code",
   "execution_count": 46,
   "metadata": {},
   "outputs": [
    {
     "name": "stdout",
     "output_type": "stream",
     "text": [
      "('cherry', 'orange', 'kiwi', 'melon')\n"
     ]
    }
   ],
   "source": [
    "thistuple = (\"apple\", \"banana\", \"cherry\", \"orange\", \"kiwi\", \"melon\", \"mango\")\n",
    "print(thistuple[-5:-1])\n",
    "\n"
   ]
  },
  {
   "cell_type": "markdown",
   "metadata": {},
   "source": [
    "replace tuple value"
   ]
  },
  {
   "cell_type": "code",
   "execution_count": 59,
   "metadata": {},
   "outputs": [
    {
     "name": "stdout",
     "output_type": "stream",
     "text": [
      "['apple', 'banana', 'cherry', 'grapes'] <class 'list'>\n",
      "('apple', 'banana', 'cherry', 'grapes') <class 'tuple'>\n",
      "('apple', 'banana', 'cherry', 'orange')\n"
     ]
    }
   ],
   "source": [
    "# x = (\"apple\", \"banana\", \"cherry\")\n",
    "# y = list(x)\n",
    "# y[1] = \"jackfruit\"\n",
    "# y = tuple(y)\n",
    "# print(y[1], y)\n",
    "# print(type(x), type(y))\n",
    "\n",
    "# add a item\n",
    "\n",
    "x = (\"apple\", \"banana\", \"cherry\")\n",
    "y = list(x)\n",
    "y.append(\"grapes\")\n",
    "print(y, type(y))\n",
    "y = tuple(y)\n",
    "print(y, type(y))\n",
    "\n",
    "thistuple = (\"apple\", \"banana\", \"cherry\")\n",
    "y = (\"orange\",)\n",
    "thistuple = thistuple + y\n",
    "\n",
    "print(thistuple)"
   ]
  },
  {
   "cell_type": "markdown",
   "metadata": {},
   "source": [
    "unpack tuple"
   ]
  },
  {
   "cell_type": "code",
   "execution_count": 78,
   "metadata": {},
   "outputs": [
    {
     "name": "stdout",
     "output_type": "stream",
     "text": [
      "['apple', 'banana', 'cherry', 'strawberry']\n",
      "raspberry\n",
      "rose\n"
     ]
    }
   ],
   "source": [
    "fruits = (\"apple\", \"banana\", \"cherry\")\n",
    "(apple, banana, cherry) = fruits\n",
    "# print(apple)\n",
    "\n",
    "flowers = (\"rose\", \"tulip\", \"lily\", \"cherry\")\n",
    "(mango, tulipNa, lilylily, cherry) = flowers\n",
    "# print(mango)\n",
    "# print(lilylily)\n",
    "\n",
    "# use asterisk\n",
    "fruits = (\"apple\", \"banana\", \"cherry\", \"strawberry\", \"raspberry\", \"rose\")\n",
    "\n",
    "(*green, yellow, red) = fruits\n",
    "\n",
    "print(green)\n",
    "print(yellow)\n",
    "print(red)"
   ]
  },
  {
   "cell_type": "markdown",
   "metadata": {},
   "source": [
    "count and index"
   ]
  },
  {
   "cell_type": "code",
   "execution_count": 83,
   "metadata": {},
   "outputs": [
    {
     "name": "stdout",
     "output_type": "stream",
     "text": [
      "2\n",
      "2\n"
     ]
    }
   ],
   "source": [
    "fruits = (\"apple\", \"banana\", \"cherry\", \"strawberry\", \"raspberry\", \"banana\")\n",
    "\n",
    "my_val = fruits.count(\"banana\")\n",
    "my_index = fruits.index(\"cherry\")\n",
    "print(my_val)\n",
    "print(my_index)"
   ]
  }
 ],
 "metadata": {
  "kernelspec": {
   "display_name": ".venv",
   "language": "python",
   "name": "python3"
  },
  "language_info": {
   "codemirror_mode": {
    "name": "ipython",
    "version": 3
   },
   "file_extension": ".py",
   "mimetype": "text/x-python",
   "name": "python",
   "nbconvert_exporter": "python",
   "pygments_lexer": "ipython3",
   "version": "3.11.6"
  }
 },
 "nbformat": 4,
 "nbformat_minor": 2
}
