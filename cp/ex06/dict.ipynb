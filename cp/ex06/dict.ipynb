{
 "cells": [
  {
   "cell_type": "code",
   "execution_count": 4,
   "metadata": {},
   "outputs": [
    {
     "name": "stdout",
     "output_type": "stream",
     "text": [
      "The Zen of Python, by Tim Peters\n",
      "\n",
      "Beautiful is better than ugly.\n",
      "Explicit is better than implicit.\n",
      "Simple is better than complex.\n",
      "Complex is better than complicated.\n",
      "Flat is better than nested.\n",
      "Sparse is better than dense.\n",
      "Readability counts.\n",
      "Special cases aren't special enough to break the rules.\n",
      "Although practicality beats purity.\n",
      "Errors should never pass silently.\n",
      "Unless explicitly silenced.\n",
      "In the face of ambiguity, refuse the temptation to guess.\n",
      "There should be one-- and preferably only one --obvious way to do it.\n",
      "Although that way may not be obvious at first unless you're Dutch.\n",
      "Now is better than never.\n",
      "Although never is often better than *right* now.\n",
      "If the implementation is hard to explain, it's a bad idea.\n",
      "If the implementation is easy to explain, it may be a good idea.\n",
      "Namespaces are one honking great idea -- let's do more of those!\n"
     ]
    }
   ],
   "source": [
    "import this"
   ]
  },
  {
   "cell_type": "code",
   "execution_count": 18,
   "metadata": {},
   "outputs": [
    {
     "name": "stdout",
     "output_type": "stream",
     "text": [
      "key=first, value=nick\n",
      "key=second, value=sanjida\n",
      "key=third, value={'mike': 'ashraful'}\n",
      "key=forth, value=[1, 3, 4, 7]\n",
      "key=fifth, value=michel jackson + 1\n",
      "this key doesnt exist on the dict\n"
     ]
    }
   ],
   "source": [
    "name = {\n",
    "    \"first\": \"nick\",\n",
    "    \"second\": \"sanjida\",\n",
    "    \"third\": {\n",
    "        \"mike\": \"ashraful\",\n",
    "    },\n",
    "    \"forth\": [1, 3, 4, 7],\n",
    "}\n",
    "name[\"fifth\"] = \"michel jackson\"\n",
    "name[\"fifth\"] = \"michel jackson + 1\"\n",
    "\n",
    "# Convert non-comparable types to something that can be compared, like strings\n",
    "sorted_items = sorted(name.items(), key=lambda item: str(item[1]), reverse=True)\n",
    "# print(sorted_items)\n",
    "\n",
    "name1 = [1, 4, 5, 2]\n",
    "# print(sorted(name1))\n",
    "# num =[1, 3, 4,]\n",
    "# num[1]= 5\n",
    "# print(num)\n",
    "\n",
    "ex_dict = {\"value1\": 10, \"value2\": 30, \"value3\": 5, \"value4\": 8, \"value5\": 1}\n",
    "\n",
    "# print(sorted(ex_dict.items(), key=lambda item: int(item[1]), reverse=True))\n",
    "\n",
    "\n",
    "# return type list\n",
    "# print(name.keys())\n",
    "# print(name.values())\n",
    "\n",
    "# print(name)\n",
    "\n",
    "# return type Tuple\n",
    "# print(name.items())\n",
    "\n",
    "for key, value in name.items():\n",
    "    print(f\"key={key}, value={value}\")\n",
    "\n",
    "# for key in name.keys():\n",
    "#     print(key)\n",
    "\n",
    "# print(name)\n",
    "\n",
    "# print(name.get(\"first\"))\n",
    "\n",
    "# print([2, 7898, 0])\n",
    "\n",
    "# print(name.get('ghjfhjgf', 'this key doesnt exist on the dict'))"
   ]
  },
  {
   "cell_type": "code",
   "execution_count": 29,
   "metadata": {},
   "outputs": [
    {
     "data": {
      "text/plain": [
       "True"
      ]
     },
     "execution_count": 29,
     "metadata": {},
     "output_type": "execute_result"
    }
   ],
   "source": [
    "name = 'jackson'\n",
    "name.isalpha()"
   ]
  },
  {
   "cell_type": "code",
   "execution_count": 26,
   "metadata": {},
   "outputs": [
    {
     "ename": "TypeError",
     "evalue": "'dict' object is not callable",
     "output_type": "error",
     "traceback": [
      "\u001b[0;31m---------------------------------------------------------------------------\u001b[0m",
      "\u001b[0;31mTypeError\u001b[0m                                 Traceback (most recent call last)",
      "\u001b[1;32m/Users/ashrafulalam/Desktop/sudo/green folder/02002students-master 2/cp/ex06/dict.ipynb Cell 3\u001b[0m line \u001b[0;36m1\n\u001b[0;32m----> <a href='vscode-notebook-cell:/Users/ashrafulalam/Desktop/sudo/green%20folder/02002students-master%202/cp/ex06/dict.ipynb#W6sZmlsZQ%3D%3D?line=0'>1</a>\u001b[0m new_dict \u001b[39m=\u001b[39m \u001b[39mdict\u001b[39;49m(firstName\u001b[39m=\u001b[39;49m\u001b[39m\"\u001b[39;49m\u001b[39mSanjida\u001b[39;49m\u001b[39m\"\u001b[39;49m, secondName\u001b[39m=\u001b[39;49m\u001b[39m\"\u001b[39;49m\u001b[39mRahman\u001b[39;49m\u001b[39m\"\u001b[39;49m)\n\u001b[1;32m      <a href='vscode-notebook-cell:/Users/ashrafulalam/Desktop/sudo/green%20folder/02002students-master%202/cp/ex06/dict.ipynb#W6sZmlsZQ%3D%3D?line=2'>3</a>\u001b[0m \u001b[39mprint\u001b[39m(new_dict)\n",
      "\u001b[0;31mTypeError\u001b[0m: 'dict' object is not callable"
     ]
    }
   ],
   "source": [
    "new_dict = dict(firstName=\"Sanjida\", secondName=\"Rahman\")\n",
    "\n",
    "print(new_dict)"
   ]
  }
 ],
 "metadata": {
  "kernelspec": {
   "display_name": ".venv",
   "language": "python",
   "name": "python3"
  },
  "language_info": {
   "codemirror_mode": {
    "name": "ipython",
    "version": 3
   },
   "file_extension": ".py",
   "mimetype": "text/x-python",
   "name": "python",
   "nbconvert_exporter": "python",
   "pygments_lexer": "ipython3",
   "version": "3.11.6"
  }
 },
 "nbformat": 4,
 "nbformat_minor": 2
}
